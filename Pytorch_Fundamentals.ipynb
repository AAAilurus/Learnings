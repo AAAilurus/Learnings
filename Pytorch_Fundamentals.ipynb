{
  "nbformat": 4,
  "nbformat_minor": 0,
  "metadata": {
    "colab": {
      "provenance": [],
      "gpuType": "T4",
      "authorship_tag": "ABX9TyP2q28fC8682NDi8amMqDk9",
      "include_colab_link": true
    },
    "kernelspec": {
      "name": "python3",
      "display_name": "Python 3"
    },
    "language_info": {
      "name": "python"
    },
    "accelerator": "GPU"
  },
  "cells": [
    {
      "cell_type": "markdown",
      "metadata": {
        "id": "view-in-github",
        "colab_type": "text"
      },
      "source": [
        "<a href=\"https://colab.research.google.com/github/AAAilurus/Learnings/blob/main/Pytorch_full_cFundamentalsipynb.ipynb\" target=\"_parent\"><img src=\"https://colab.research.google.com/assets/colab-badge.svg\" alt=\"Open In Colab\"/></a>"
      ]
    },
    {
      "cell_type": "code",
      "execution_count": 32,
      "metadata": {
        "id": "la7RQawjyTDm",
        "colab": {
          "base_uri": "https://localhost:8080/"
        },
        "outputId": "7f146f1b-5742-4708-ba59-e2bc2f9ada43"
      },
      "outputs": [
        {
          "output_type": "stream",
          "name": "stdout",
          "text": [
            "2.6.0+cu124\n"
          ]
        }
      ],
      "source": [
        "import torch\n",
        "import pandas as pd\n",
        "import numpy as np\n",
        "import matplotlib.pyplot as plt\n",
        "print(torch.__version__)\n",
        "\n"
      ]
    },
    {
      "cell_type": "code",
      "source": [],
      "metadata": {
        "id": "Cg9tkFlX6FLz"
      },
      "execution_count": 32,
      "outputs": []
    },
    {
      "cell_type": "code",
      "source": [
        "import torch\n",
        "scalar = torch.tensor(7)\n",
        "scalar.ndim\n",
        "scalar.item()\n",
        "vector = torch.tensor([7,7])\n",
        "vector.shape\n",
        "vector.ndim\n"
      ],
      "metadata": {
        "colab": {
          "base_uri": "https://localhost:8080/"
        },
        "id": "YfujBB-f5NIS",
        "outputId": "9d9067c0-3678-4ccf-a6c7-5f876be841f0"
      },
      "execution_count": 33,
      "outputs": [
        {
          "output_type": "execute_result",
          "data": {
            "text/plain": [
              "1"
            ]
          },
          "metadata": {},
          "execution_count": 33
        }
      ]
    },
    {
      "cell_type": "code",
      "source": [
        "import torch\n",
        "matrix= torch.tensor([[7,8],[9,10]])\n",
        "matrix.ndim\n",
        "matrix[0]\n",
        "matrix.shape"
      ],
      "metadata": {
        "colab": {
          "base_uri": "https://localhost:8080/"
        },
        "id": "RwvbTlMMdQgO",
        "outputId": "bee6044e-c967-445d-b67b-35a8c63dd4c8"
      },
      "execution_count": 34,
      "outputs": [
        {
          "output_type": "execute_result",
          "data": {
            "text/plain": [
              "torch.Size([2, 2])"
            ]
          },
          "metadata": {},
          "execution_count": 34
        }
      ]
    },
    {
      "cell_type": "code",
      "source": [
        "import torch\n",
        "tensor= torch.tensor([[[1,2,3],[4,5,6],[7,8,9]]])\n",
        "tensor.ndim\n",
        "tensor.shape\n",
        "tensor[0]"
      ],
      "metadata": {
        "colab": {
          "base_uri": "https://localhost:8080/"
        },
        "id": "-9h3i9BZeeOR",
        "outputId": "cc274a15-c6af-4d5b-9487-2c0b61bb89a1"
      },
      "execution_count": 35,
      "outputs": [
        {
          "output_type": "execute_result",
          "data": {
            "text/plain": [
              "tensor([[1, 2, 3],\n",
              "        [4, 5, 6],\n",
              "        [7, 8, 9]])"
            ]
          },
          "metadata": {},
          "execution_count": 35
        }
      ]
    },
    {
      "cell_type": "code",
      "source": [
        "import torch\n",
        "random_tensor= torch.rand(3,4)\n",
        "random_tensor.ndim\n"
      ],
      "metadata": {
        "colab": {
          "base_uri": "https://localhost:8080/"
        },
        "id": "KwMRGmi3fw3N",
        "outputId": "5f49253f-babb-41d0-f0dc-16440e9f2690"
      },
      "execution_count": 36,
      "outputs": [
        {
          "output_type": "execute_result",
          "data": {
            "text/plain": [
              "2"
            ]
          },
          "metadata": {},
          "execution_count": 36
        }
      ]
    },
    {
      "cell_type": "code",
      "source": [
        "import torch\n",
        "random_image_size_tensor= torch.rand(size=(224,224,3))\n",
        "random_image_size_tensor.shape, random_image_size_tensor.ndim"
      ],
      "metadata": {
        "id": "VSXnEWY-g-18",
        "colab": {
          "base_uri": "https://localhost:8080/"
        },
        "outputId": "4244ba7f-c910-473a-8282-f4e96efcfc4c"
      },
      "execution_count": 37,
      "outputs": [
        {
          "output_type": "execute_result",
          "data": {
            "text/plain": [
              "(torch.Size([224, 224, 3]), 3)"
            ]
          },
          "metadata": {},
          "execution_count": 37
        }
      ]
    },
    {
      "cell_type": "code",
      "source": [
        "import torch\n",
        "zeros= torch.zeros(3,4)\n",
        "zeros*random_tensor"
      ],
      "metadata": {
        "colab": {
          "base_uri": "https://localhost:8080/"
        },
        "id": "qA4B5qxBlYJL",
        "outputId": "5161823f-f623-487e-9ba9-1c433ade1a38"
      },
      "execution_count": 38,
      "outputs": [
        {
          "output_type": "execute_result",
          "data": {
            "text/plain": [
              "tensor([[0., 0., 0., 0.],\n",
              "        [0., 0., 0., 0.],\n",
              "        [0., 0., 0., 0.]])"
            ]
          },
          "metadata": {},
          "execution_count": 38
        }
      ]
    },
    {
      "cell_type": "code",
      "source": [
        "import torch\n",
        "ones= torch.ones(3,4)\n",
        "ones"
      ],
      "metadata": {
        "colab": {
          "base_uri": "https://localhost:8080/"
        },
        "id": "mmRMARVPljIx",
        "outputId": "24e9b448-6f1d-4c3f-aca8-b95ad3d33dcc"
      },
      "execution_count": 39,
      "outputs": [
        {
          "output_type": "execute_result",
          "data": {
            "text/plain": [
              "tensor([[1., 1., 1., 1.],\n",
              "        [1., 1., 1., 1.],\n",
              "        [1., 1., 1., 1.]])"
            ]
          },
          "metadata": {},
          "execution_count": 39
        }
      ]
    },
    {
      "cell_type": "code",
      "source": [
        "import torch\n",
        "a= torch.arange(start= 1, end=11, step = 1)\n",
        "a"
      ],
      "metadata": {
        "colab": {
          "base_uri": "https://localhost:8080/"
        },
        "id": "GUAQ945alwoz",
        "outputId": "6dd6e082-f720-4419-a61d-5139a1de65ef"
      },
      "execution_count": 40,
      "outputs": [
        {
          "output_type": "execute_result",
          "data": {
            "text/plain": [
              "tensor([ 1,  2,  3,  4,  5,  6,  7,  8,  9, 10])"
            ]
          },
          "metadata": {},
          "execution_count": 40
        }
      ]
    },
    {
      "cell_type": "code",
      "source": [
        "import torch\n",
        "b= torch.zeros_like(a)\n",
        "b"
      ],
      "metadata": {
        "colab": {
          "base_uri": "https://localhost:8080/"
        },
        "id": "wloMEDP_mkM1",
        "outputId": "bff0cc96-74a4-494a-b171-0b583772a655"
      },
      "execution_count": 41,
      "outputs": [
        {
          "output_type": "execute_result",
          "data": {
            "text/plain": [
              "tensor([0, 0, 0, 0, 0, 0, 0, 0, 0, 0])"
            ]
          },
          "metadata": {},
          "execution_count": 41
        }
      ]
    },
    {
      "cell_type": "code",
      "source": [
        "import torch\n",
        "float = torch.tensor([3.0, 6.0, 9.0], dtype= None, device = None, requires_grad= False )\n",
        "float.dtype"
      ],
      "metadata": {
        "colab": {
          "base_uri": "https://localhost:8080/"
        },
        "id": "ZO-w4IUrnLru",
        "outputId": "c284f3db-542d-484f-85b0-e4b500d11f6c"
      },
      "execution_count": 42,
      "outputs": [
        {
          "output_type": "execute_result",
          "data": {
            "text/plain": [
              "torch.float32"
            ]
          },
          "metadata": {},
          "execution_count": 42
        }
      ]
    },
    {
      "cell_type": "code",
      "source": [
        "import torch\n",
        "float_16= float.type(torch.half)\n",
        "float_32= float.type(torch.double)\n",
        "float_16*float_32"
      ],
      "metadata": {
        "colab": {
          "base_uri": "https://localhost:8080/"
        },
        "id": "gZlQX7J-o-f_",
        "outputId": "481cfa92-b924-46d8-cc65-a5873e92a8f2"
      },
      "execution_count": 43,
      "outputs": [
        {
          "output_type": "execute_result",
          "data": {
            "text/plain": [
              "tensor([ 9., 36., 81.], dtype=torch.float64)"
            ]
          },
          "metadata": {},
          "execution_count": 43
        }
      ]
    },
    {
      "cell_type": "code",
      "source": [
        "import torch\n",
        "tensor= torch.tensor([1,2,3])\n",
        "print(f\"Tensor addition\",tensor+10)\n",
        "print(tensor*10)\n",
        "print(tensor-10)\n",
        "print(tensor/10)\n",
        "\n",
        "print(tensor.mul(10))\n",
        "\n"
      ],
      "metadata": {
        "colab": {
          "base_uri": "https://localhost:8080/"
        },
        "id": "JhupJ4-cregO",
        "outputId": "0a780c91-7cb3-4875-8e81-65947bb52a2c"
      },
      "execution_count": 44,
      "outputs": [
        {
          "output_type": "stream",
          "name": "stdout",
          "text": [
            "Tensor addition tensor([11, 12, 13])\n",
            "tensor([10, 20, 30])\n",
            "tensor([-9, -8, -7])\n",
            "tensor([0.1000, 0.2000, 0.3000])\n",
            "tensor([10, 20, 30])\n"
          ]
        }
      ]
    },
    {
      "cell_type": "code",
      "source": [
        "import torch\n",
        "tensor = torch.tensor([1,2,3])\n",
        "print(\"Element wise multiplication\",tensor*tensor)\n",
        "print(\"Matrix multiplication\", tensor@tensor)"
      ],
      "metadata": {
        "colab": {
          "base_uri": "https://localhost:8080/"
        },
        "id": "wg2_dNKFs1Qo",
        "outputId": "c8345097-01af-4f88-f94c-3587c047a518"
      },
      "execution_count": 45,
      "outputs": [
        {
          "output_type": "stream",
          "name": "stdout",
          "text": [
            "Element wise multiplication tensor([1, 4, 9])\n",
            "Matrix multiplication tensor(14)\n"
          ]
        }
      ]
    },
    {
      "cell_type": "code",
      "source": [
        "import torch\n",
        "tensor_A= torch.tensor([[1,2],[3,4],[5,6]])\n",
        "tensor_B= torch.tensor([[7,10],[8,11],[9,12]])\n",
        "torch.mm(tensor_A, tensor_B.T)# Transpose as same dimension is not for matmul"
      ],
      "metadata": {
        "colab": {
          "base_uri": "https://localhost:8080/"
        },
        "id": "39uDMzprGMl6",
        "outputId": "69f710d9-bf48-4aab-f875-6bdaf76bfa83"
      },
      "execution_count": 46,
      "outputs": [
        {
          "output_type": "execute_result",
          "data": {
            "text/plain": [
              "tensor([[ 27,  30,  33],\n",
              "        [ 61,  68,  75],\n",
              "        [ 95, 106, 117]])"
            ]
          },
          "metadata": {},
          "execution_count": 46
        }
      ]
    },
    {
      "cell_type": "code",
      "source": [
        "import torch\n",
        "x= torch.arange(start= 0,end= 100,step=10)\n",
        "print(x)\n",
        "print(x.min())\n",
        "print(x.max())\n",
        "print(torch.mean(x.type(torch.float32)))\n",
        "print(x.sum())"
      ],
      "metadata": {
        "colab": {
          "base_uri": "https://localhost:8080/"
        },
        "id": "MWtmyt1_JLVf",
        "outputId": "48766095-32b4-44d5-e900-f7f4f48fd6c2"
      },
      "execution_count": 47,
      "outputs": [
        {
          "output_type": "stream",
          "name": "stdout",
          "text": [
            "tensor([ 0, 10, 20, 30, 40, 50, 60, 70, 80, 90])\n",
            "tensor(0)\n",
            "tensor(90)\n",
            "tensor(45.)\n",
            "tensor(450)\n"
          ]
        }
      ]
    },
    {
      "cell_type": "code",
      "source": [
        "import torch\n",
        "x= torch.arange(start=0, end=100, step=10)\n",
        "print(x.argmin())\n",
        "print(x.argmax())"
      ],
      "metadata": {
        "colab": {
          "base_uri": "https://localhost:8080/"
        },
        "id": "yPIEeGc81o3o",
        "outputId": "ca0a0770-32df-4b7f-f055-b9005664c08a"
      },
      "execution_count": 48,
      "outputs": [
        {
          "output_type": "stream",
          "name": "stdout",
          "text": [
            "tensor(0)\n",
            "tensor(9)\n"
          ]
        }
      ]
    },
    {
      "cell_type": "code",
      "source": [
        "import torch\n",
        "x= torch.arange(1,9.)\n",
        "print(x)\n",
        "print(x.reshape(4,2))\n",
        "z= x.view(1,8)\n",
        "print(z, z.shape)\n",
        "z[:,0]=5\n",
        "z,x\n",
        "x_stacked= torch.stack([x,x,x,x], dim=1)\n",
        "print(x_stacked)\n",
        "x_squeezed= x.reshape(1,8)\n",
        "x_squeezed.squeeze()\n",
        "x_unsqueezed= x_squeezed.unsqueeze(dim=0)\n",
        "print(x_unsqueezed)\n",
        "X_original= torch.rand(size=(224,224,3))\n",
        "x_permuted= X_original.permute(2,0,1)\n",
        "print(x_permuted.shape)\n"
      ],
      "metadata": {
        "colab": {
          "base_uri": "https://localhost:8080/"
        },
        "id": "iHNwyeAV2fdF",
        "outputId": "65622a5d-06b4-4bfa-b152-12fa9deac783"
      },
      "execution_count": 49,
      "outputs": [
        {
          "output_type": "stream",
          "name": "stdout",
          "text": [
            "tensor([1., 2., 3., 4., 5., 6., 7., 8.])\n",
            "tensor([[1., 2.],\n",
            "        [3., 4.],\n",
            "        [5., 6.],\n",
            "        [7., 8.]])\n",
            "tensor([[1., 2., 3., 4., 5., 6., 7., 8.]]) torch.Size([1, 8])\n",
            "tensor([[5., 5., 5., 5.],\n",
            "        [2., 2., 2., 2.],\n",
            "        [3., 3., 3., 3.],\n",
            "        [4., 4., 4., 4.],\n",
            "        [5., 5., 5., 5.],\n",
            "        [6., 6., 6., 6.],\n",
            "        [7., 7., 7., 7.],\n",
            "        [8., 8., 8., 8.]])\n",
            "tensor([[[5., 2., 3., 4., 5., 6., 7., 8.]]])\n",
            "torch.Size([3, 224, 224])\n"
          ]
        }
      ]
    },
    {
      "cell_type": "code",
      "source": [
        "import torch\n",
        "import numpy as np\n",
        "array= np.arange(1.0,8.0)\n",
        "tensor= torch.from_numpy(array)\n",
        "array = array+1\n",
        "array, tensor\n"
      ],
      "metadata": {
        "id": "CTXUr8ia5wqR",
        "colab": {
          "base_uri": "https://localhost:8080/"
        },
        "outputId": "2b45bebf-6063-4f57-e604-f0c4082daaef"
      },
      "execution_count": 50,
      "outputs": [
        {
          "output_type": "execute_result",
          "data": {
            "text/plain": [
              "(array([2., 3., 4., 5., 6., 7., 8.]),\n",
              " tensor([1., 2., 3., 4., 5., 6., 7.], dtype=torch.float64))"
            ]
          },
          "metadata": {},
          "execution_count": 50
        }
      ]
    },
    {
      "cell_type": "code",
      "source": [
        "tensor= torch.ones(7)\n",
        "numpy_tensor= tensor.numpy()\n",
        "\n",
        "tensor = tensor+1\n",
        "tensor, numpy_tensor"
      ],
      "metadata": {
        "colab": {
          "base_uri": "https://localhost:8080/"
        },
        "id": "lw-NEdDKjf35",
        "outputId": "09554393-c4f3-4774-c850-2a73bbe1d6de"
      },
      "execution_count": 51,
      "outputs": [
        {
          "output_type": "execute_result",
          "data": {
            "text/plain": [
              "(tensor([2., 2., 2., 2., 2., 2., 2.]),\n",
              " array([1., 1., 1., 1., 1., 1., 1.], dtype=float32))"
            ]
          },
          "metadata": {},
          "execution_count": 51
        }
      ]
    },
    {
      "cell_type": "code",
      "source": [
        "import torch\n",
        "random_tensor_A= torch.rand(3,4)\n",
        "random_tensor_B= torch.rand(3,4)\n",
        "print(random_tensor_A)\n",
        "print(random_tensor_B)\n",
        "print(random_tensor_A==random_tensor_B)\n"
      ],
      "metadata": {
        "colab": {
          "base_uri": "https://localhost:8080/"
        },
        "id": "27Jj9UIskEgU",
        "outputId": "11288096-dd81-4c5c-a68a-6f1d9da56671"
      },
      "execution_count": 52,
      "outputs": [
        {
          "output_type": "stream",
          "name": "stdout",
          "text": [
            "tensor([[0.3588, 0.9211, 0.8627, 0.8223],\n",
            "        [0.5248, 0.5881, 0.2746, 0.3791],\n",
            "        [0.2975, 0.6450, 0.0163, 0.9160]])\n",
            "tensor([[0.5888, 0.8403, 0.4761, 0.7140],\n",
            "        [0.4644, 0.6362, 0.8892, 0.1317],\n",
            "        [0.7164, 0.2706, 0.6560, 0.6614]])\n",
            "tensor([[False, False, False, False],\n",
            "        [False, False, False, False],\n",
            "        [False, False, False, False]])\n"
          ]
        }
      ]
    },
    {
      "cell_type": "code",
      "source": [
        "import torch\n",
        "random_seed= 42\n",
        "torch.manual_seed(random_seed)\n",
        "random_tensor_c= torch.rand(3,4)\n",
        "torch.manual_seed(random_seed)\n",
        "random_tensor_d= torch.rand(3,4)\n",
        "print(random_tensor_c)\n",
        "print(random_tensor_d)\n",
        "print(random_tensor_c==random_tensor_d)"
      ],
      "metadata": {
        "colab": {
          "base_uri": "https://localhost:8080/"
        },
        "id": "4qXn-e8FlY9V",
        "outputId": "05b484ad-7378-4153-d59d-5b8fd81777d0"
      },
      "execution_count": 53,
      "outputs": [
        {
          "output_type": "stream",
          "name": "stdout",
          "text": [
            "tensor([[0.8823, 0.9150, 0.3829, 0.9593],\n",
            "        [0.3904, 0.6009, 0.2566, 0.7936],\n",
            "        [0.9408, 0.1332, 0.9346, 0.5936]])\n",
            "tensor([[0.8823, 0.9150, 0.3829, 0.9593],\n",
            "        [0.3904, 0.6009, 0.2566, 0.7936],\n",
            "        [0.9408, 0.1332, 0.9346, 0.5936]])\n",
            "tensor([[True, True, True, True],\n",
            "        [True, True, True, True],\n",
            "        [True, True, True, True]])\n"
          ]
        }
      ]
    },
    {
      "cell_type": "code",
      "source": [
        "!nvidia-smi\n",
        "import torch\n",
        "#torch.cuda.is_available()\n",
        "device= \"cuda\" if torch.cuda.is_available() else \"cpu\"\n",
        "#device\n",
        "tensor= torch.tensor([1,2,3])\n",
        "tensor_on_gpu= tensor.to(device)\n",
        "b=tensor_on_gpu.cpu().numpy()\n",
        "b"
      ],
      "metadata": {
        "colab": {
          "base_uri": "https://localhost:8080/"
        },
        "id": "Qt2N32ZDm3_M",
        "outputId": "703f9b36-159e-4a10-c933-d609264363ad"
      },
      "execution_count": 10,
      "outputs": [
        {
          "output_type": "stream",
          "name": "stdout",
          "text": [
            "Mon Aug 18 14:55:00 2025       \n",
            "+-----------------------------------------------------------------------------------------+\n",
            "| NVIDIA-SMI 550.54.15              Driver Version: 550.54.15      CUDA Version: 12.4     |\n",
            "|-----------------------------------------+------------------------+----------------------+\n",
            "| GPU  Name                 Persistence-M | Bus-Id          Disp.A | Volatile Uncorr. ECC |\n",
            "| Fan  Temp   Perf          Pwr:Usage/Cap |           Memory-Usage | GPU-Util  Compute M. |\n",
            "|                                         |                        |               MIG M. |\n",
            "|=========================================+========================+======================|\n",
            "|   0  Tesla T4                       Off |   00000000:00:04.0 Off |                    0 |\n",
            "| N/A   51C    P0             26W /   70W |     104MiB /  15360MiB |      0%      Default |\n",
            "|                                         |                        |                  N/A |\n",
            "+-----------------------------------------+------------------------+----------------------+\n",
            "                                                                                         \n",
            "+-----------------------------------------------------------------------------------------+\n",
            "| Processes:                                                                              |\n",
            "|  GPU   GI   CI        PID   Type   Process name                              GPU Memory |\n",
            "|        ID   ID                                                               Usage      |\n",
            "|=========================================================================================|\n",
            "+-----------------------------------------------------------------------------------------+\n"
          ]
        },
        {
          "output_type": "execute_result",
          "data": {
            "text/plain": [
              "array([1, 2, 3])"
            ]
          },
          "metadata": {},
          "execution_count": 10
        }
      ]
    }
  ]
}
